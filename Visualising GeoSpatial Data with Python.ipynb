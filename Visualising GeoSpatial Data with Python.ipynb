{
 "cells": [
  {
   "cell_type": "markdown",
   "metadata": {},
   "source": [
    "# Visualising GeoSpatial Data with Python\n",
    "\n",
    "\n",
    "Data visualization is the presentation of data in a pictorial or graphical format. This enables decision makers to see analytics presented visually, and grasp concepts which may otherwise be complex  to indentify.\n",
    "\n",
    "In this session will guide you set-by-step on how to transform, merge and visualise spatial data or AirBnbs in Berlin.\n"
   ]
  },
  {
   "cell_type": "markdown",
   "metadata": {},
   "source": [
    "## Charateristics of GeoSpatial Data \n",
    "- Information that identifies the geographic location of features and boundaries on Earth:\n",
    "    - E.g oceans, countiries, rivers, buildings and roads\n",
    "    \n",
    "- **Examples of Spatial data:**    \n",
    "    - **Point:** one coordinate\n",
    "    - **Line:** two coordinates representing a line segment of the element. \n",
    "    - **Polygon:**  consists of coordinate pair values, one vertex pair for each "
   ]
  },
  {
   "cell_type": "markdown",
   "metadata": {},
   "source": [
    "## Source of Data\n",
    "\n",
    "**Airbnb Listing in Berlin**\n",
    "- Tabulated data with cordinates of listings\n",
    "- csv formart\n",
    "- Inside AirBnb\n",
    "\n",
    "Refence: http://data.insideairbnb.com/germany/be/berlin/2019-05-14/visualisations/listings.csv \n",
    "\n",
    "**Map of neighborhoods in Berlin**\n",
    "- Polygons representing the neighborhoods in Berlin\n",
    "- GeoJson Format\n",
    "- GitHub\n",
    "\n",
    "Reference: https://github.com/funkeinteraktiv/Berlin-Geodaten/raw/master/berlin_bezirke.geojson\n",
    "\n"
   ]
  },
  {
   "cell_type": "code",
   "execution_count": null,
   "metadata": {
    "collapsed": true
   },
   "outputs": [],
   "source": [
    "# web:\n",
    "# listings_url = 'http://data.insideairbnb.com/germany/be/berlin/2019-05-14/visualisations/listings.csv'\n",
    "# berlin_geojson_url ='https://github.com/funkeinteraktiv/Berlin-Geodaten/raw/master/berlin_bezirke.geojson'"
   ]
  },
  {
   "cell_type": "code",
   "execution_count": null,
   "metadata": {
    "collapsed": true
   },
   "outputs": [],
   "source": [
    "# local\n",
    "listings_url='data/listings.csv'\n",
    "berlin_geojson_url='data/berlin_bezirke.geojson'"
   ]
  },
  {
   "cell_type": "markdown",
   "metadata": {},
   "source": [
    "## Tools Used\n",
    "- **python 3.4.5**\n",
    "    - Encountered a number of error with Python 2.7, and for that Python 3.4.5 or higher is recommeded.\n",
    "\n",
    "- **pandas 0.24.2**\n",
    "    - import csv data into DataFrame which makes transformation and filtering easir\n",
    "    \n",
    "- **geopandas 0.4.1**\n",
    "    - import geoSpatial data into GeoDataFrame which suports data transformation and merging multiple datasets\n",
    "    \n",
    "- **spaciy 1.6.4** \n",
    "    - Used in transforming data. E.g Creating spatial attribute (of type 'Point') for listing from longtidues and latitudes provided in csv. \n",
    "    \n",
    "- **follium 0.9.1**\n",
    "    -  To create several types of Leaflet maps Python and Leaflet.js\n",
    "\n",
    "- **matplotlib 3.1.0**\n",
    "    - embedding plots into python applications"
   ]
  },
  {
   "cell_type": "code",
   "execution_count": null,
   "metadata": {
    "collapsed": true
   },
   "outputs": [],
   "source": [
    "#import Prerequists\n",
    "%matplotlib inline\n",
    "\n",
    "import pandas as pd\n",
    "import geopandas as gpd\n",
    "import matplotlib.pyplot as plt\n",
    "from shapely.geometry import Point\n",
    "import folium"
   ]
  },
  {
   "cell_type": "code",
   "execution_count": null,
   "metadata": {
    "collapsed": false
   },
   "outputs": [],
   "source": [
    "# verify version\n",
    "print(folium.__version__)"
   ]
  },
  {
   "cell_type": "markdown",
   "metadata": {},
   "source": [
    "## Importing csv data with pandas"
   ]
  },
  {
   "cell_type": "code",
   "execution_count": null,
   "metadata": {
    "collapsed": false
   },
   "outputs": [],
   "source": [
    "df_listings = pd.read_csv(listings_url, parse_dates=True, index_col=0)\n",
    "df_listings.head(2)"
   ]
  },
  {
   "cell_type": "code",
   "execution_count": null,
   "metadata": {
    "collapsed": false
   },
   "outputs": [],
   "source": [
    "df_listings.columns"
   ]
  },
  {
   "cell_type": "markdown",
   "metadata": {},
   "source": [
    "# Filtering data \n",
    "**Criteria:**\n",
    "- Entire home/apartments listings\n",
    "- price above 500"
   ]
  },
  {
   "cell_type": "code",
   "execution_count": null,
   "metadata": {
    "collapsed": false
   },
   "outputs": [],
   "source": [
    "\n",
    "\n",
    "entire_homes_above500=df_listings[\n",
    "    (df_listings.room_type == 'Entire home/apt')&\n",
    "    (df_listings.price >= 500)]\n",
    "\n",
    "entire_homes_above500.head(2)\n",
    "\n"
   ]
  },
  {
   "cell_type": "markdown",
   "metadata": {},
   "source": [
    "## Add a geometry attribute"
   ]
  },
  {
   "cell_type": "code",
   "execution_count": null,
   "metadata": {
    "collapsed": false
   },
   "outputs": [],
   "source": [
    "entire_homes_above500.loc[:,'geometry'] = entire_homes_above500.apply(\n",
    "                                                    lambda row: Point((row['longitude'], row['latitude'])), axis = 1)\n",
    "\n",
    "#Verify coordinates\n",
    "entire_homes_above500[['longitude','latitude','geometry']].head(2)"
   ]
  },
  {
   "cell_type": "code",
   "execution_count": null,
   "metadata": {
    "collapsed": false
   },
   "outputs": [],
   "source": []
  },
  {
   "cell_type": "code",
   "execution_count": null,
   "metadata": {
    "collapsed": false
   },
   "outputs": [],
   "source": [
    "print(entire_homes_above500.shape,\n",
    "      type(entire_homes_above500))"
   ]
  },
  {
   "cell_type": "code",
   "execution_count": null,
   "metadata": {
    "collapsed": false
   },
   "outputs": [],
   "source": [
    "entire_homes_above500.crs"
   ]
  },
  {
   "cell_type": "markdown",
   "metadata": {},
   "source": [
    "## Create a GeoDataFrame for listing in Mitte\n",
    "The data can not be maped yet, we need to transform into a geopandas data frame with a Coordinate Reference System(CRS) that is compatiple with OpenStreetMap(epsg:4326)"
   ]
  },
  {
   "cell_type": "code",
   "execution_count": null,
   "metadata": {
    "collapsed": false
   },
   "outputs": [],
   "source": [
    "listings_crs = {'init': 'epsg:4326'} \n",
    "\n",
    "entire_homes_above500_geo = gpd.GeoDataFrame(entire_homes_above500, \n",
    "                                             crs = listings_crs, \n",
    "                                             geometry = entire_homes_above500.geometry)\n",
    "entire_homes_above500_geo[['longitude','latitude','geometry']].head(2)"
   ]
  },
  {
   "cell_type": "code",
   "execution_count": null,
   "metadata": {
    "collapsed": false
   },
   "outputs": [],
   "source": [
    "#\n",
    "print(entire_homes_above500_geo.shape,\n",
    "      type(entire_homes_above500_geo),\n",
    "      entire_homes_above500_geo.crs)"
   ]
  },
  {
   "cell_type": "markdown",
   "metadata": {},
   "source": [
    "## Geographical Visualisations\n",
    "\n",
    "### Folium Map Parameters\n",
    "- **location** (tuple or list, default None) – Latitude and Longitude of Map (Northing, Easting).\n",
    "- **width** (pixel int or percentage string (default: '100%')) – Width of the map.\n",
    "- **height** (pixel int or percentage string (default: '100%')) – Height of the map.\n",
    "- **tiles** (str, default 'OpenStreetMap') Other ption inclide:\n",
    "    - openstreetmap : _openstreetmap_\n",
    "    - Map Quest Open: _mapquestopen_\n",
    "    - MapQuest Open _Aerial: MapQuest Open Aerial_\n",
    "    - Mapbox Bright: _Mapbox Bright_\n",
    "    - Mapbox Control _Room:Mapbox Control Room_\n",
    "    - Stamen Terrain: _stamenterrain_\n",
    "    - Stamen Toner: _stamentoner_\n",
    "    - Stamen Watercolor: _stamenwatercolor_\n",
    "    - CartoDB Positron: _cartodbdark_matter_\n",
    "    \n",
    "- **min_zoom** (int, default 0) – Minimum allowed zoom level for the tile layer that is created.\n",
    "- **max_zoom** (int, default 18) – Maximum allowed zoom level for the tile layer that is created.\n",
    "- **zoom_start** (int, default 10) – Initial zoom level for the map.\n",
    "- **crs** (str, default 'EPSG3857') – Defines coordinate reference systems for projecting geographical points into pixel (screen) coordinates and back. \n"
   ]
  },
  {
   "cell_type": "code",
   "execution_count": null,
   "metadata": {
    "collapsed": false,
    "scrolled": true
   },
   "outputs": [],
   "source": [
    "# To construct a map with centered Alexanderplatz Station\n",
    "# Remember plotting is done by 'latitude', 'longitude (Northing, Easting)\n",
    "\n",
    "Berlin_Alexanderplatz_Station = [52.521389, 13.411944]\n",
    "\n",
    "m = folium.Map(location = Berlin_Alexanderplatz_Station, zoom_start = 16)\n",
    "\n",
    "# display the map\n",
    "display(m)\n"
   ]
  },
  {
   "cell_type": "markdown",
   "metadata": {},
   "source": [
    "## Adding a marker to the map"
   ]
  },
  {
   "cell_type": "code",
   "execution_count": null,
   "metadata": {
    "collapsed": false,
    "scrolled": true
   },
   "outputs": [],
   "source": [
    "starbucks_point = {'coordinates':[52.521210, 13.411571], 'name': 'Starbucks'}\n",
    "mcDonalds_point = {'coordinates':[52.52115,13.41196], 'name': 'McDonalds'}\n",
    "\n",
    "station_map = folium.Map(location = mcDonalds_point['coordinates'],\n",
    "                         zoom_start=18)\n",
    "\n",
    "folium.Marker(location=starbucks_point['coordinates'], \n",
    "              popup=starbucks_point['name']).add_to(station_map)\n",
    "\n",
    "display(station_map)"
   ]
  },
  {
   "cell_type": "markdown",
   "metadata": {},
   "source": [
    "# Working with Polygons"
   ]
  },
  {
   "cell_type": "markdown",
   "metadata": {},
   "source": [
    "## Importing data with geopandas"
   ]
  },
  {
   "cell_type": "code",
   "execution_count": null,
   "metadata": {
    "collapsed": false
   },
   "outputs": [],
   "source": [
    "berlin = gpd.read_file(berlin_geojson_url) \n",
    "berlin.head(2)"
   ]
  },
  {
   "cell_type": "markdown",
   "metadata": {},
   "source": [
    "## Data Transformation\n",
    "\n",
    "### Get the center of the polygon\n",
    "\n",
    "- The central point of a shape and is also called the geometric center this is done using the **Centroid** function. \n",
    "- The central point matches to the center of gravity of a particular shape. \n",
    "- The centroid is the term for 2-dimensional shapes.\n",
    "- Represented by represented with longitudes by latitudes"
   ]
  },
  {
   "cell_type": "code",
   "execution_count": null,
   "metadata": {
    "collapsed": false,
    "scrolled": true
   },
   "outputs": [],
   "source": [
    "##To add the center colum on the Berlin GeoDataFrame\n",
    "berlin['center'] = berlin.geometry.centroid\n",
    "berlin.head(2)\n"
   ]
  },
  {
   "cell_type": "markdown",
   "metadata": {},
   "source": [
    "## Filtering "
   ]
  },
  {
   "cell_type": "code",
   "execution_count": null,
   "metadata": {
    "collapsed": false,
    "scrolled": true
   },
   "outputs": [],
   "source": [
    "berlin_mitte = berlin.loc[berlin.name == 'Mitte']\n",
    "berlin_mitte.head()"
   ]
  },
  {
   "cell_type": "markdown",
   "metadata": {},
   "source": [
    "# Ploting a polygon\n",
    "In this example we will plot only the polygon for Mitte"
   ]
  },
  {
   "cell_type": "code",
   "execution_count": null,
   "metadata": {
    "collapsed": false
   },
   "outputs": [],
   "source": [
    "# Get the central point for Mitte to focus the mapping area \n",
    "center_point = berlin_mitte.center[0] \n",
    "print(type(center_point), center_point)"
   ]
  },
  {
   "cell_type": "code",
   "execution_count": null,
   "metadata": {
    "collapsed": false,
    "scrolled": true
   },
   "outputs": [],
   "source": [
    "# Remember folium cordinates are latitudes by longitudes\n",
    "mitte_center = [center_point.y, center_point.x]\n",
    "print(mitte_center)"
   ]
  },
  {
   "cell_type": "code",
   "execution_count": null,
   "metadata": {
    "collapsed": false,
    "scrolled": true
   },
   "outputs": [],
   "source": [
    "# Construct a folium map for Mitte in Berlin\n",
    "mitte_map = folium.Map(location = mitte_center, width='60', height='60', zoom_start=12)\n",
    "folium.GeoJson(berlin_mitte.geometry).add_to(mitte_map)\n",
    "display(mitte_map)"
   ]
  },
  {
   "cell_type": "markdown",
   "metadata": {},
   "source": [
    "#  Multiple layers and customision\n",
    "Scenario: Show the location of Starbucks in Berlin Alexanderplatz Station in \n",
    "- each map feature is added as separent layer\n"
   ]
  },
  {
   "cell_type": "code",
   "execution_count": null,
   "metadata": {
    "collapsed": false,
    "scrolled": true
   },
   "outputs": [],
   "source": [
    "mitte_map_with_one_point = folium.Map(location = mitte_center,\n",
    "                                      width='80', \n",
    "                                      height='80', \n",
    "                                      tiles='Stamen Toner', \n",
    "                                      zoom_start=12)\n",
    "\n",
    "cafes_in_Mitte = [(52.521210, 13.411571),\n",
    "                      (52.51673,13.37978),\n",
    "                      (52.51940,13.38874),\n",
    "                      (52.5197446, 13.3886757),\n",
    "                      (2.5179169, 13.3881200)]\n",
    "#add ploygon to the map\n",
    "folium.GeoJson(berlin_mitte.geometry).add_to(mitte_map_with_one_point)\n",
    "# folium.GeoJson(roads_mitte.geometry).add_to(mitte_map_with_one_point)\n",
    "\n",
    "#add different points to the map\n",
    "folium.Circle(location=cafes_in_Mitte[0],\n",
    "              radius=100, \n",
    "              color='red',\n",
    "              fill_color = 'red',\n",
    "              fill_opacity=0.9).add_to(mitte_map_with_one_point)\n",
    "\n",
    "folium.CircleMarker(location=cafes_in_Mitte[1], \n",
    "                    radius=10,\n",
    "                    color = None,\n",
    "                    fill_color = '#FF8C00',\n",
    "                    fill_opacity=0.9).add_to(mitte_map_with_one_point)\n",
    "\n",
    "folium.Marker(location=cafes_in_Mitte[2], \n",
    "              icon = folium.Icon(color='green', icon='credit-card')).add_to(mitte_map_with_one_point)\n",
    "\n",
    "#show the map\n",
    "display(mitte_map_with_one_point)"
   ]
  },
  {
   "cell_type": "markdown",
   "metadata": {},
   "source": [
    "# Interating through a DataFrame  "
   ]
  },
  {
   "cell_type": "code",
   "execution_count": null,
   "metadata": {
    "collapsed": false,
    "scrolled": true
   },
   "outputs": [],
   "source": [
    "\n",
    "mitte_map = folium.Map(location = mitte_center,\n",
    "                       width='80', \n",
    "                       height='80', \n",
    "                       tiles='cartodbpositron',\n",
    "                       zoom_start = 10)\n",
    "folium.GeoJson(berlin.geometry).add_to(mitte_map)\n",
    "#create a marker for each listing\n",
    "for row in entire_homes_above500_geo.iterrows():\n",
    "    row_values = row[1]\n",
    "    location = [row_values['latitude'], \n",
    "                row_values['longitude']] \n",
    "    \n",
    "    price = row_values['price']\n",
    "    \n",
    "    if(price >= 1000):\n",
    "        color = 'red'\n",
    "    else:\n",
    "        color = 'orange'\n",
    "        \n",
    "    marker = folium.CircleMarker(location = location,\n",
    "                                 tooltip = '£'+ str(price),\n",
    "                                 radius=12, \n",
    "                                 color = None,\n",
    "                                 fill_color = color,\n",
    "                                fill_opacity=0.9)\n",
    "    \n",
    "    marker.add_to(mitte_map)\n",
    "display(mitte_map)"
   ]
  },
  {
   "cell_type": "markdown",
   "metadata": {},
   "source": [
    "# Joining spatial data\n",
    "\n",
    "**Focus area:** listings that are within the mitte including those at the boarder\n",
    "\n",
    "\n",
    "**Sjoin Arguments**\n",
    "sjoin.() has two core arguments: how and op."
   ]
  },
  {
   "cell_type": "markdown",
   "metadata": {},
   "source": [
    "**op argument:** specifies how geopandas decides whether or not to join the attributes of one object to another\n",
    "There are three different join options as follows:\n",
    "   - **intersects:** The attributes will be joined if the boundary and interior of the object intersect in any way with the boundary and/or interior of the other object.\n",
    "   - **within:** The attributes will be joined if the object’s boundary and interior intersect only with the interior of the other object (not its boundary or exterior).\n",
    "   - **contains:** The attributes will be joined if the object’s interior contains the boundary and interior of the other object and their boundaries do not touch at all."
   ]
  },
  {
   "cell_type": "markdown",
   "metadata": {},
   "source": [
    "**how argument:** specifies the type of join that will occur and which geometry is retained in the resultant geodataframe. \n",
    "\n",
    "It accepts the following options:\n",
    "- **left:** use the index from the first (or left_df) geodataframe that you provide to sjoin; retain only the left_df geometry column\n",
    "- **right:** use index from second (or right_df); retain only the right_df geometry column\n",
    "- **inner:** use intersection of index values from both geodataframes; retain only the left_df geometry column"
   ]
  },
  {
   "cell_type": "code",
   "execution_count": null,
   "metadata": {
    "collapsed": false
   },
   "outputs": [],
   "source": [
    "# join spatial data considering only the data with in Mitte area\n",
    "mitte_listings_in_mitte_geo = gpd.sjoin(entire_homes_above500_geo, \n",
    "                               berlin_mitte, \n",
    "                               how='inner', \n",
    "                               op = 'within') \n",
    "mitte_listings_in_mitte_geo.shape"
   ]
  },
  {
   "cell_type": "markdown",
   "metadata": {},
   "source": [
    "# HTML Popup annotations\n",
    "\n",
    "Scenario: for each listing show the name of the surburb and the price"
   ]
  },
  {
   "cell_type": "code",
   "execution_count": null,
   "metadata": {
    "collapsed": false,
    "scrolled": true
   },
   "outputs": [],
   "source": [
    "import re\n",
    "\n",
    "# Add description on markers\n",
    "mitte_map = folium.Map(location = mitte_center,\n",
    "                       width='80', \n",
    "                       height='80', \n",
    "                       tiles='cartodbpositron',\n",
    "                       zoom_start = 12)\n",
    "\n",
    "\n",
    "# Construct a folium map for listing in mitte only \n",
    "folium.GeoJson(berlin_mitte.geometry).add_to(mitte_map)\n",
    "\n",
    "#create a marker for each listing\n",
    "for row in mitte_listings_in_mitte_geo.iterrows():   \n",
    "    row_values = row[1]\n",
    "    price = row_values['price']\n",
    "    name = re.sub('[^A-Za-z0-9 ]', '', row_values['name_left'])\n",
    "    location = [row_values['latitude'], row_values['longitude']] \n",
    "    popuptext = str(name) +'<br> <strong> £' + str(price) + '</strong>'\n",
    "    \n",
    "    popup = folium.Popup(popuptext,max_width=100,min_width=50)\n",
    "    \n",
    "    if(price >= 1000):\n",
    "        icon = folium.Icon(color='red', icon='home')\n",
    "    else:\n",
    "        icon = folium.Icon(color='lightred', icon='home')\n",
    "        \n",
    "    marker = folium.Marker(location = location, popup = popup,icon=icon) \n",
    "    marker.add_to(mitte_map)\n",
    "display(mitte_map)\n"
   ]
  },
  {
   "cell_type": "markdown",
   "metadata": {},
   "source": [
    "# Heat (Density) maps"
   ]
  },
  {
   "cell_type": "markdown",
   "metadata": {},
   "source": [
    "To plot a heatmap of listing in each neigborhood_group, we will need to compute the density of listing in each neighorhood_group.\n",
    "\n",
    "**Therefore we will:**\n",
    "- Calculate area for each polygon\n",
    "- Count listings in neigborhood_group\n",
    "- Use the area and total listings to compute density of listings per square Kilometer\n"
   ]
  },
  {
   "cell_type": "code",
   "execution_count": null,
   "metadata": {
    "collapsed": false
   },
   "outputs": [],
   "source": [
    "#Checking the dataset\n",
    "berlin_heatmap_gdf = berlin[['name','geometry']]\n",
    "berlin_heatmap_gdf.head(2)"
   ]
  },
  {
   "cell_type": "code",
   "execution_count": null,
   "metadata": {
    "collapsed": false
   },
   "outputs": [],
   "source": [
    "type(berlin_heatmap_gdf)"
   ]
  },
  {
   "cell_type": "markdown",
   "metadata": {},
   "source": [
    "## Calculate area for each polygon\n",
    "\n",
    "To calucate area we need to convert coordinates from degrees to distance"
   ]
  },
  {
   "cell_type": "code",
   "execution_count": null,
   "metadata": {
    "collapsed": false
   },
   "outputs": [],
   "source": [
    "print(berlin_heatmap_gdf.crs)"
   ]
  },
  {
   "cell_type": "code",
   "execution_count": null,
   "metadata": {
    "collapsed": false
   },
   "outputs": [],
   "source": [
    "# convert to EPSG 3857 to calculate area\n",
    "berlin_heatmap_gdf = berlin_heatmap_gdf.to_crs(epsg = 3857) \n",
    "print(berlin_heatmap_gdf.crs)\n"
   ]
  },
  {
   "cell_type": "code",
   "execution_count": null,
   "metadata": {
    "collapsed": false
   },
   "outputs": [],
   "source": [
    "#add area column in square kilometers\n",
    "berlin_heatmap_gdf['area']=berlin_heatmap_gdf.geometry.area / (10**6)\n",
    "berlin_heatmap_gdf.head(2)"
   ]
  },
  {
   "cell_type": "code",
   "execution_count": null,
   "metadata": {
    "collapsed": true
   },
   "outputs": [],
   "source": [
    "# convert back to EPSG 4326 the default crs for OpenStreetMap\n",
    "berlin_heatmap_gdf = berlin_heatmap_gdf.to_crs(epsg = 4326) "
   ]
  },
  {
   "cell_type": "code",
   "execution_count": null,
   "metadata": {
    "collapsed": false
   },
   "outputs": [],
   "source": [
    "berlin_heatmap_gdf.head()"
   ]
  },
  {
   "cell_type": "markdown",
   "metadata": {},
   "source": [
    "## Grouping listings by neigborhood group\n",
    "On comparison of two datasets the map structure is by 'neigborhood_group', so we will group by that."
   ]
  },
  {
   "cell_type": "code",
   "execution_count": null,
   "metadata": {
    "collapsed": false
   },
   "outputs": [],
   "source": [
    "# aggregate listing by neighorhood\n",
    "listings_counts = df_listings.groupby(['neighbourhood_group']).size()\n",
    "\n",
    "# convert listings_counts to a df\n",
    "berlin_listings_df = listings_counts.to_frame() \n",
    "berlin_listings_df.reset_index(level=0, inplace=True) \n",
    "berlin_listings_df.columns = ['name', 'listings_count']\n",
    "berlin_listings_df.head(2)\n"
   ]
  },
  {
   "cell_type": "markdown",
   "metadata": {},
   "source": [
    "### Merging DataFrames:\n",
    "**how** : {‘left’, ‘right’, ‘outer’, ‘inner’}, default ‘inner’\n",
    "\n",
    "**how options:**\n",
    "Specifies the type of join that will occur \n",
    "- left: use only keys from left frame, similar to a SQL left outer join; preserve key order.\n",
    "- right: use only keys from right frame, similar to a SQL right outer join; preserve key order.\n",
    "- outer: use union of keys from both frames, similar to a SQL full outer join; sort keys lexicographically.\n",
    "- inner: use intersection of keys from both frames, similar to a SQL inner join; preserve the order of the left keys.\n",
    "\n",
    "**on** : label or list\n",
    "\n",
    "Specifies the column or index level names to join on. \n",
    "- These must be found in both DataFrames. \n",
    "- If on is None and not merging on indexes then this defaults to the intersection of the columns in both DataFrames."
   ]
  },
  {
   "cell_type": "code",
   "execution_count": null,
   "metadata": {
    "collapsed": false
   },
   "outputs": [],
   "source": [
    "# merge\n",
    "berlin_listings_with_counts = pd.merge(berlin_heatmap_gdf, \n",
    "                                       berlin_listings_df, \n",
    "                                       how='inner', \n",
    "                                       on = 'name')\n",
    "berlin_listings_with_counts.head(2)"
   ]
  },
  {
   "cell_type": "markdown",
   "metadata": {},
   "source": [
    "# Calculating density of listings"
   ]
  },
  {
   "cell_type": "code",
   "execution_count": null,
   "metadata": {
    "collapsed": false
   },
   "outputs": [],
   "source": [
    "print(berlin_listings_df.shape, type(berlin_listings_df))"
   ]
  },
  {
   "cell_type": "code",
   "execution_count": null,
   "metadata": {
    "collapsed": false
   },
   "outputs": [],
   "source": [
    "berlin_listings_with_counts['listings_density'] = berlin_listings_with_counts.apply(\n",
    "                                                        lambda row: ((row.listings_count/row.area)), axis = 1)\n",
    "berlin_listings_with_counts.head(2)\n",
    "\n"
   ]
  },
  {
   "cell_type": "code",
   "execution_count": null,
   "metadata": {
    "collapsed": false
   },
   "outputs": [],
   "source": [
    "berlin_listings_with_counts.plot(column = 'listings_density', cmap = 'Reds', edgecolor = 'black', legend = True)\n",
    "plt.title('Listings per kilometers squared') \n",
    "plt.xlabel('longitude') \n",
    "plt.ylabel('latitude');"
   ]
  },
  {
   "cell_type": "code",
   "execution_count": null,
   "metadata": {
    "collapsed": false
   },
   "outputs": [],
   "source": [
    "\n",
    "berlin_listings_with_counts_geo = gpd.GeoDataFrame(berlin_listings_with_counts, \n",
    "                                                   crs = listings_crs, \n",
    "                                                   geometry = berlin_listings_with_counts.geometry)\n",
    "berlin_listings_with_counts_geo.head(1)"
   ]
  },
  {
   "cell_type": "markdown",
   "metadata": {},
   "source": [
    "# Working with folium choropleth"
   ]
  },
  {
   "cell_type": "markdown",
   "metadata": {},
   "source": [
    "**Arguments:**\n",
    "- **geo_data** - the source data for the polygons (geojson file or a GeoDataFrame) \n",
    "- **name** - the name of the geometry column (or geojson property) for the polygons \n",
    "- **data** - the source DataFrame or Series for the normalized data\n",
    "- **columns** - a list of columns: one that corresponds to the polygons and one that has the value to plot"
   ]
  },
  {
   "cell_type": "markdown",
   "metadata": {},
   "source": [
    "**Additional arguments**\n",
    "\n",
    "- **key_on** - a GeoJSON variable to bind the data to (always starts with feature) \n",
    "- **fill_color** - polygon fill color (defaults to blue)\n",
    "- **fill_opacity** - range between 0 (transparent) and 1 (completely opaque) \n",
    "- **line_color** - color of polygon border lines (defaults to black)\n",
    "- **line_opacity** - range between 0 (transparent) and 1 (completely opaque) \n",
    "- **legend_name** - creates a title for the legend"
   ]
  },
  {
   "cell_type": "code",
   "execution_count": null,
   "metadata": {
    "collapsed": true
   },
   "outputs": [],
   "source": [
    "# Center point and map for Berlin\n",
    "berlin_map_center = [52.532893752113054, 13.365964300254726]\n",
    "m = folium.Map(location=berlin_map_center, \n",
    "               zoom_start=10,\n",
    "               width='80', \n",
    "               height='80')"
   ]
  },
  {
   "cell_type": "code",
   "execution_count": null,
   "metadata": {
    "collapsed": false,
    "scrolled": true
   },
   "outputs": [],
   "source": [
    "# Define a choropleth layer for the map\n",
    "m.choropleth(\n",
    "    geo_data=berlin_listings_with_counts_geo,\n",
    "    name='geometry',\n",
    "    data=berlin_listings_with_counts_geo,\n",
    "    columns=['name', 'listings_density'], \n",
    "    key_on='feature.properties.name', \n",
    "    fill_color='Reds',\n",
    "    fill_opacity=0.8,\n",
    "    line_opacity=0.4,\n",
    "    legend_name='Airbnb listings per Squared Km'\n",
    ")"
   ]
  },
  {
   "cell_type": "code",
   "execution_count": null,
   "metadata": {
    "collapsed": false,
    "scrolled": true
   },
   "outputs": [],
   "source": [
    "# Add layer control and display\n",
    "folium.LayerControl().add_to(m) \n",
    "display(m)"
   ]
  },
  {
   "cell_type": "code",
   "execution_count": null,
   "metadata": {
    "collapsed": true
   },
   "outputs": [],
   "source": []
  }
 ],
 "metadata": {
  "anaconda-cloud": {},
  "kernelspec": {
   "display_name": "Python [pyladies]",
   "language": "python",
   "name": "Python [pyladies]"
  },
  "language_info": {
   "codemirror_mode": {
    "name": "ipython",
    "version": 3
   },
   "file_extension": ".py",
   "mimetype": "text/x-python",
   "name": "python",
   "nbconvert_exporter": "python",
   "pygments_lexer": "ipython3",
   "version": "3.7.3"
  }
 },
 "nbformat": 4,
 "nbformat_minor": 1
}
